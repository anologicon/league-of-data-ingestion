{
 "cells": [
  {
   "cell_type": "code",
   "execution_count": 51,
   "id": "8e6fc0b8-8cb8-4bfd-b8e0-9fca9294ee42",
   "metadata": {},
   "outputs": [],
   "source": [
    "from pyspark.sql import SparkSession\n",
    "from pyspark.sql.functions import *\n",
    "from pyspark.sql.types import *\n",
    "from pyspark.sql import functions as F"
   ]
  },
  {
   "cell_type": "code",
   "execution_count": 52,
   "id": "c022c1e3-0097-4eb6-bded-cfb8af019401",
   "metadata": {},
   "outputs": [],
   "source": [
    "\n",
    "spark = (\n",
    "    SparkSession.builder.appName(\"ToParquetLeagueOfData\")\n",
    "    .master(\"spark://spark-master:7077\")\n",
    "    .config(\n",
    "        \"spark.jars.packages\",\n",
    "        \"com.amazonaws:aws-java-sdk:1.11.563,com.amazonaws:aws-java-sdk-bundle:1.11.874,org.apache.hadoop:hadoop-aws:3.3.2,io.delta:delta-core_2.12:2.1.0\"\n",
    "    )\n",
    "    .config(\"spark.sql.extensions\", \"io.delta.sql.DeltaSparkSessionExtension\")\n",
    "    .config(\"spark.sql.catalog.spark_catalog\", \"org.apache.spark.sql.delta.catalog.DeltaCatalog\")\n",
    "    .config(\"spark.hadoop.fs.s3a.multipart.size\", \"838860800\")\n",
    "    .config(\n",
    "        \"spark.hadoop.fs.s3a.aws.credentials.provider\",\n",
    "        \"org.apache.hadoop.fs.s3a.SimpleAWSCredentialsProvider\",\n",
    "    )\n",
    "    .config(\"spark.hadoop.fs.s3a.path.style.access\", True)\n",
    "    .getOrCreate()\n",
    ")"
   ]
  },
  {
   "cell_type": "code",
   "execution_count": 53,
   "id": "8da60a82-662d-4f64-a5d5-e3e741d4a8ad",
   "metadata": {},
   "outputs": [],
   "source": [
    "spark.sparkContext.setLogLevel(\"ERROR\")\n",
    "sc = spark\n",
    "hadoop_conf = sc._jsc.hadoopConfiguration()\n",
    "hadoop_conf.set(\"fs.s3a.impl\", \"org.apache.hadoop.fs.s3a.S3AFileSystem\")\n",
    "hadoop_conf.set(\"fs.s3a.endpoint\", \"http://minio:9000\")\n",
    "hadoop_conf.set(\"fs.s3a.access.key\", \"cDmBsEallXwr8QAe\")\n",
    "hadoop_conf.set(\"fs.s3a.secret.key\", \"1L34sxo5OqJlTJF8co1UiHsCabdZ96bH\")\n",
    "hadoop_conf.set(\"fs.s3a.path.style.access\", \"True\")"
   ]
  },
  {
   "cell_type": "code",
   "execution_count": 54,
   "id": "77fd74a1-0e2e-4fee-9c2a-15c70df11240",
   "metadata": {},
   "outputs": [
    {
     "name": "stderr",
     "output_type": "stream",
     "text": [
      "                                                                                \r"
     ]
    }
   ],
   "source": [
    "mastery_df = spark.read.json(\"s3a://league-of-data-bronze/summoners/mastery\")\n",
    "summoners_df = spark.read.json(\"s3a://league-of-data-bronze/summoners/details\")"
   ]
  },
  {
   "cell_type": "code",
   "execution_count": 55,
   "id": "230061ba-e754-4579-a893-d518f3ced6ac",
   "metadata": {},
   "outputs": [],
   "source": [
    "summoners_id_df = summoners_df.select(col(\"summoner_detail.id\"), col(\"summoner_detail.puuid\")).distinct()"
   ]
  },
  {
   "cell_type": "code",
   "execution_count": 56,
   "id": "3ebd2804-3103-4f4b-b6c4-35894f284a1b",
   "metadata": {},
   "outputs": [
    {
     "name": "stdout",
     "output_type": "stream",
     "text": [
      "23/01/06 15:24:22 ERROR StandaloneSchedulerBackend: Application has been killed. Reason: Master removed our application: KILLED\n",
      "23/01/06 15:24:22 ERROR Inbox: Ignoring error\n",
      "org.apache.spark.SparkException: Exiting due to error from cluster scheduler: Master removed our application: KILLED\n",
      "\tat org.apache.spark.errors.SparkCoreErrors$.clusterSchedulerError(SparkCoreErrors.scala:218)\n",
      "\tat org.apache.spark.scheduler.TaskSchedulerImpl.error(TaskSchedulerImpl.scala:923)\n",
      "\tat org.apache.spark.scheduler.cluster.StandaloneSchedulerBackend.dead(StandaloneSchedulerBackend.scala:154)\n",
      "\tat org.apache.spark.deploy.client.StandaloneAppClient$ClientEndpoint.markDead(StandaloneAppClient.scala:262)\n",
      "\tat org.apache.spark.deploy.client.StandaloneAppClient$ClientEndpoint$$anonfun$receive$1.applyOrElse(StandaloneAppClient.scala:169)\n",
      "\tat org.apache.spark.rpc.netty.Inbox.$anonfun$process$1(Inbox.scala:115)\n",
      "\tat org.apache.spark.rpc.netty.Inbox.safelyCall(Inbox.scala:213)\n",
      "\tat org.apache.spark.rpc.netty.Inbox.process(Inbox.scala:100)\n",
      "\tat org.apache.spark.rpc.netty.MessageLoop.org$apache$spark$rpc$netty$MessageLoop$$receiveLoop(MessageLoop.scala:75)\n",
      "\tat org.apache.spark.rpc.netty.MessageLoop$$anon$1.run(MessageLoop.scala:41)\n",
      "\tat java.base/java.util.concurrent.ThreadPoolExecutor.runWorker(ThreadPoolExecutor.java:1128)\n",
      "\tat java.base/java.util.concurrent.ThreadPoolExecutor$Worker.run(ThreadPoolExecutor.java:628)\n",
      "\tat java.base/java.lang.Thread.run(Thread.java:829)\n"
     ]
    }
   ],
   "source": [
    "mastery_puuid_df = mastery_df.join(summoners_id_df, mastery_df.summonerId == summoners_id_df.id, how=\"left\")"
   ]
  },
  {
   "cell_type": "code",
   "execution_count": 48,
   "id": "4a7ddabb-0b27-4b5d-824a-3cb7aa82ce90",
   "metadata": {},
   "outputs": [
    {
     "name": "stderr",
     "output_type": "stream",
     "text": [
      "                                                                                \r"
     ]
    }
   ],
   "source": [
    "mastery_puuid_df.write.mode(\"overwrite\").partitionBy(\"puuid\", \"extracted_at\").format(\"delta\").save(\"s3a://league-of-data-bronze/summoner/mastery/\")"
   ]
  }
 ],
 "metadata": {
  "kernelspec": {
   "display_name": "Python 3 (ipykernel)",
   "language": "python",
   "name": "python3"
  },
  "language_info": {
   "codemirror_mode": {
    "name": "ipython",
    "version": 3
   },
   "file_extension": ".py",
   "mimetype": "text/x-python",
   "name": "python",
   "nbconvert_exporter": "python",
   "pygments_lexer": "ipython3",
   "version": "3.10.8"
  }
 },
 "nbformat": 4,
 "nbformat_minor": 5
}
